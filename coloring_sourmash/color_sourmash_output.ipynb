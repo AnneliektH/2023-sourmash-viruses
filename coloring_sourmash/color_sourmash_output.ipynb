{
 "cells": [
  {
   "cell_type": "code",
   "execution_count": null,
   "metadata": {},
   "outputs": [],
   "source": [
    "# Import packages\n",
    "import scipy.cluster.hierarchy as sch\n",
    "import pandas as pd\n",
    "import numpy\n",
    "import pylab\n",
    "import seaborn as sns\n",
    "from scipy.cluster.hierarchy import linkage"
   ]
  },
  {
   "cell_type": "code",
   "execution_count": null,
   "metadata": {},
   "outputs": [],
   "source": [
    "# set font scale for sns\n",
    "sns.set(font_scale=0.1) \n",
    "\n",
    "# set colors for each of the environments\n",
    "colours = {'ocean': 'blue', \n",
    "           'agsoil': 'brown', \n",
    "           'lake': 'yellow', \n",
    "           'peat': 'green',\n",
    "          'natsoil': 'orange',\n",
    "          'other': 'grey'}"
   ]
  },
  {
   "cell_type": "code",
   "execution_count": null,
   "metadata": {},
   "outputs": [],
   "source": [
    "# WORKS\n",
    "# open dissimilarity matrix\n",
    "df= pd.read_csv('./set_1_compare.csv', sep=',')\n",
    "\n",
    "# open the attributes for each sequence (in this case environment it comes from)\n",
    "attr = pd.read_csv('./categories.csv', sep=',', index_col=0)\n",
    "\n",
    "# set index as colnames\n",
    "df.index = df.columns\n",
    "\n",
    "# add the labels to a list\n",
    "labeltext = df.index.to_list()\n",
    "dendrolabels = labeltext\n",
    "\n",
    "# Create dendrogram\n",
    "Y = sch.linkage(df, method='single')  # centroid\n",
    "Z1 = sch.dendrogram(Y, orientation='left', labels=dendrolabels, get_leaves=True)"
   ]
  },
  {
   "cell_type": "code",
   "execution_count": null,
   "metadata": {},
   "outputs": [],
   "source": [
    "# WORKS\n",
    "# re-order labels along rows, top to bottom\n",
    "idx1 = Z1['leaves']\n",
    "reordered_labels = [labeltext[i] for i in idx1 ]\n",
    "\n",
    "# reindex and reorder dataframe\n",
    "df = df.reindex(columns=reordered_labels, index=reordered_labels)"
   ]
  },
  {
   "cell_type": "code",
   "execution_count": null,
   "metadata": {},
   "outputs": [],
   "source": [
    "# WORKS\n",
    "# Add the index vales as labels to merge with attributes on label names\n",
    "df['label'] = df.index\n",
    "\n",
    "# merge with the attribute table\n",
    "df = pd.merge(df, attr, on='label')\n",
    "\n",
    "# make the index names the orignal label names instead of numbers\n",
    "df.index = df['label']\n",
    "\n",
    "# remove the extra label column\n",
    "del df['label']\n",
    "\n",
    "# add the colors for each of the labels\n",
    "row_colors = df['attr'].map(colours)\n",
    "\n"
   ]
  },
  {
   "cell_type": "code",
   "execution_count": null,
   "metadata": {},
   "outputs": [],
   "source": [
    "#WORKS\n",
    "# plot\n",
    "g = sns.clustermap(data=df.drop(['attr'], axis=1, ), \n",
    "                   cmap=\"YlGnBu\", row_colors=row_colors, row_cluster=True, col_cluster=False, \n",
    "                   dendrogram_ratio=0.05, method='single', cbar_pos=None)\n",
    "#g.savefig(\"./plots_w_cols/test.pdf\", bbox_inches='tight')"
   ]
  }
 ],
 "metadata": {
  "language_info": {
   "name": "python"
  }
 },
 "nbformat": 4,
 "nbformat_minor": 2
}
