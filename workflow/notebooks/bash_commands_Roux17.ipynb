{
 "cells": [
  {
   "cell_type": "markdown",
   "metadata": {},
   "source": [
    "## How to run sourmash for viral genome taxonomy and recovery\n",
    "\n",
    "How to run sourmash for viral taxonomic classifications?\n",
    "What database works better, what k size, what scale? Does protein work?\n",
    "\n",
    "## Steps\n",
    "1. Start with simulated reads from Roux et al., 2017.\n",
    "2a. create signature files directly from these reads\n",
    "2b. Run reads through virome pipeline (assemly, Virsorter2)\n",
    "3. predict proteins on predicted viruses\n",
    "4. Create signatures\n",
    "5. do fastmultigather (on 2a, 2b, 3) -> gather -> taxonomy\n",
    "6. Genomad on 2b, compare to others\n",
    "\n",
    "Roux uses Refseq v69 for this, Tessa made a db for that. \n",
    "- db: /home/ntpierce/2023-vsmash/output.refseq69\n",
    "- tax: /home/ntpierce/2023-vsmash/output.refseq69/refseq69_phages.taxonomy.csv\n",
    "\n",
    "Reads from Roux 2017 at: https://datacommons.cyverse.org/browse/iplant/home/shared/iVirus/Virome_pipeline_benchmark\n"
   ]
  },
  {
   "cell_type": "code",
   "execution_count": null,
   "metadata": {
    "vscode": {
     "languageId": "plaintext"
    }
   },
   "outputs": [],
   "source": [
    "# use gocommands to download\n",
    "mamba activate gocommands\n",
    "\n",
    "# get the whole folder\n",
    "gocmd get --progress /iplant/home/shared/iVirus/Virome_pipeline_benchmark/Simulated_Viromes/Simulations_10M/Sample_9/Reads_QC_R*.fastq.gz\n",
    "\n",
    "# move sim reads from roux2017\n",
    "for f in Sample_*/Reads_QC_R2.fastq.gz\n",
    "do\n",
    "mv $f ../sim_reads/${f%/Reads*}_QC_R2.fastq.gz\n",
    "done\n"
   ]
  },
  {
   "cell_type": "code",
   "execution_count": null,
   "metadata": {
    "vscode": {
     "languageId": "plaintext"
    }
   },
   "outputs": [],
   "source": [
    "# how to run a snakefile\n",
    "srun --account=ctbrowngrp -p med2 -J simread -t 24:00:00 -c 12 --mem=30gb --pty bash\n",
    "mamba activate branchwater\n",
    "snakemake --use-conda --resources mem_mb=30000 --rerun-triggers mtime \\\n",
    "-c 12 --rerun-incomplete -k -n"
   ]
  },
  {
   "cell_type": "code",
   "execution_count": null,
   "metadata": {
    "vscode": {
     "languageId": "plaintext"
    }
   },
   "outputs": [],
   "source": [
    "# fastmultigather only takes lists of gz files\n",
    "Dont have those for reads, so use for loop\n",
    "\n",
    "for f in *.zip\n",
    "do\n",
    "sourmash scripts fastmultigather \\\n",
    "$f /home/ntpierce/2023-vsmash/output.refseq69/refseq69_phages.dna-sc100.zip \\\n",
    "-c 54 -k 15 -s 100 -t 300 \n",
    "done \n",
    "for f in *.csv\n",
    "do\n",
    "mv $f ../../../fastmultigather/${f%.csv}.k15.s100.csv\n",
    "done\n",
    "\n",
    "for f in *.zip\n",
    "do\n",
    "sourmash scripts fastmultigather \\\n",
    "$f /home/ntpierce/2023-vsmash/output.refseq69/refseq69_phages.protein-sc100.zip \\\n",
    "-c 54 -k 10 -s 100 -t 300 -m protein\n",
    "done\n",
    "for f in *.csv\n",
    "do\n",
    "mv $f ../../../fastmultigather/${f%.csv}.tr.k10.s100.csv\n",
    "done\n",
    "\n",
    "sourmash gather -k 21 Sample_1_vs_s1000_dna.sig.gz /home/ntpierce/2023-vsmash/output.refseq69/refseq69_phages.dna-sc1000.zip -o Sample1_vs_s1000.csv"
   ]
  },
  {
   "cell_type": "code",
   "execution_count": null,
   "metadata": {
    "vscode": {
     "languageId": "plaintext"
    }
   },
   "outputs": [],
   "source": [
    "for f in *.zip\n",
    "do\n",
    "mv $f  ${f%.zip}_reads.zip\n",
    "done"
   ]
  },
  {
   "cell_type": "code",
   "execution_count": null,
   "metadata": {
    "vscode": {
     "languageId": "plaintext"
    }
   },
   "outputs": [],
   "source": [
    "We will need to do a bunch of fastmultigathers...\n",
    "protein(k7,10), dna(k15,21), scale 100, scale 1000, \n",
    "for reads, mh contigs and virsorter contigs.\n",
    "\n",
    "Can we snake it?\n",
    "We can give fmg a list of files, so put all file types that are the same in the same list?\n",
    "a protein list and a dna list of files at each scale and the ksizes we can loop\n",
    "\n",
    "readlink -f > filelist.txt"
   ]
  },
  {
   "cell_type": "code",
   "execution_count": null,
   "metadata": {
    "vscode": {
     "languageId": "plaintext"
    }
   },
   "outputs": [],
   "source": [
    "# do bash loop for sourmash compare cause lazy\n",
    "# maybe try containment or avg-containment instead of ani\n",
    "for i in {7,10,12}\n",
    "do\n",
    "sourmash compare \\\n",
    "*.nucl.zip \\\n",
    "-o sourmash_compare/vir_nucl.k$i.cmp \\\n",
    "-k $i --ani \\\n",
    "--labels-to sourmash_compare/vir_nucl.k$i.labels.csv\n",
    "done"
   ]
  },
  {
   "cell_type": "code",
   "execution_count": null,
   "metadata": {
    "vscode": {
     "languageId": "plaintext"
    }
   },
   "outputs": [],
   "source": [
    "make a couple of file lists for the contig ones\n",
    "readlink -f *.prot.s1000.7* > prot.s1000.7.txt\n",
    "readlink -f *.prot.s1000.10* > prot.s1000.10.txt\n",
    "readlink -f *.prot.s100.7* > prot.s100.7.txt\n",
    "readlink -f *.prot.s100.10* > prot.s100.10.txt\n",
    "readlink -f *.dna.s1000* > dna.s1000.txt\n",
    "readlink -f *.dna.s100* > dna.s100.txt\n",
    "\n",
    "sourmash scripts fastmultigather dna.s100.txt \\\n",
    "/home/ntpierce/2023-vsmash/output.refseq69/refseq69_phages.dna-sc100.zip \\\n",
    "-k 21 -c 54 -t 100\n",
    "\n",
    "for f in *.csv\n",
    "do\n",
    "mv $f ../../fastmultigather/${f%.csv}.tr.k10.s100.csv\n",
    "done\n",
    "\n",
    "for f in Sample_1.mh.dna.s100.sig.gz\n",
    "do\n",
    "sourmash scripts fastmultigather \\\n",
    "$f /home/ntpierce/2023-vsmash/output.refseq69/refseq69_phages.dna-sc100.zip \\\n",
    "-c 54 -k 21 -s 100 -t 300 \n",
    "done\n",
    "for f in *.csv\n",
    "do\n",
    "mv $f ../../../fastmultigather/${f%.csv}.tr.k10.s100.csv\n",
    "done\n",
    "\n",
    "\n",
    "\n",
    "sourmash scripts fastmultigather \\\n",
    "Samples.dna.s1000.sig.gz /home/ntpierce/2023-vsmash/output.refseq69/refseq69_phages.dna-sc1000.zip \\\n",
    "-c 54 -k 21 -s 1000 -t 300 && mv *.csv ./dna_contigs/k21_s1000/ && \\\n",
    "sourmash scripts fastmultigather \\\n",
    "Samples.dna.s1000.sig.gz /home/ntpierce/2023-vsmash/output.refseq69/refseq69_phages.dna-sc1000.zip \\\n",
    "-c 54 -k 15 -s 1000 -t 300 && mv *.csv ./dna_contigs/k15_s1000/ && \\\n",
    "sourmash scripts fastmultigather \\\n",
    "Samples.prot.k10.s100.sig.gz /home/ntpierce/2023-vsmash/output.refseq69/refseq69_phages.protein-sc100.zip \\\n",
    "-c 54 -k 10 -s 100 -t 300 -m protein && mv *.csv ./protein/k10_s100/ && \\\n",
    "sourmash scripts fastmultigather \\\n",
    "Samples.prot.k10.s1000.sig.gz /home/ntpierce/2023-vsmash/output.refseq69/refseq69_phages.protein-sc1000.zip \\\n",
    "-c 54 -k 10 -s 1000 -t 300 -m protein && mv *.csv ./protein/k10_s1000/ && \\\n",
    "sourmash scripts fastmultigather \\\n",
    "Samples.prot.k7.s100.sig.gz /home/ntpierce/2023-vsmash/output.refseq69/refseq69_phages.protein-sc100.zip \\\n",
    "-c 54 -k 7 -s 100 -t 300 -m protein && mv *.csv ./protein/k7_s100/ && \\\n",
    "sourmash scripts fastmultigather \\\n",
    "Samples.prot.k7.s1000.sig.gz /home/ntpierce/2023-vsmash/output.refseq69/refseq69_phages.protein-sc1000.zip \\\n",
    "-c 54 -k 7 -s 1000 -t 300 -m protein && mv *.csv ./protein/k7_s1000/ "
   ]
  },
  {
   "cell_type": "code",
   "execution_count": null,
   "metadata": {
    "vscode": {
     "languageId": "shellscript"
    }
   },
   "outputs": [],
   "source": [
    "# cat outputs and do tax\n",
    "csvtk concat *.gather.tr.k7.s100.csv > ../reads.gather.tr.k7.s100.csv\n",
    "csvtk concat *.gather.tr.k7.s1000.csv > ../reads.gather.tr.k7.s1000.csv\n",
    "csvtk concat *.gather.tr.k10.s100.csv > ../reads.gather.tr.k10.s100.csv\n",
    "csvtk concat *.gather.tr.k10.s1000.csv > ../reads.gather.tr.k10.s1000.csv\n",
    "\n",
    "csvtk concat *.gather.k15.s100.csv > ../reads.gather.k15.s100.csv\n",
    "csvtk concat *.gather.k15.s1000.csv > ../reads.gather.k15.s1000.csv\n",
    "csvtk concat *.gather.k21.s100.csv > ../reads.gather.k21.s100.csv\n",
    "csvtk concat *.gather.k21.s1000.csv > ../reads.gather.k21.s1000.csv\n",
    "\n",
    "\n",
    "sourmash tax genome -g {input.csv} -t {input.taxdb} > {output}\n"
   ]
  },
  {
   "cell_type": "code",
   "execution_count": null,
   "metadata": {
    "vscode": {
     "languageId": "plaintext"
    }
   },
   "outputs": [],
   "source": [
    "# after virsorter2, have to individualize contigs to run prodigal\n",
    "awk '/^>/ {OUT=substr($0,2) \".fa\"}; OUT {print >OUT}' contigs.fa\n",
    "\n",
    "# can use the individ contigs for the snakefile, aka running prodigal, sourmash. \n",
    "# rename contigs first. s ee snake"
   ]
  },
  {
   "cell_type": "markdown",
   "metadata": {},
   "source": []
  }
 ],
 "metadata": {
  "kernelspec": {
   "display_name": "Python 3",
   "language": "python",
   "name": "python3"
  },
  "language_info": {
   "codemirror_mode": {
    "name": "ipython",
    "version": 3
   },
   "file_extension": ".py",
   "mimetype": "text/x-python",
   "name": "python",
   "nbconvert_exporter": "python",
   "pygments_lexer": "ipython3",
   "version": "3.10.13"
  }
 },
 "nbformat": 4,
 "nbformat_minor": 2
}
