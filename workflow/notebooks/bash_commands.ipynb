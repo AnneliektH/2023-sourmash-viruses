{
 "cells": [
  {
   "cell_type": "markdown",
   "metadata": {},
   "source": [
    "## How to run sourmash for viral genome taxonomy and recovery\n",
    "\n",
    "How to run sourmash for viral taxonomic classifications?\n",
    "What database works better, what k size, what scale? Does protein work?\n",
    "\n",
    "## Steps\n",
    "1. Simulate reads from the database file (either ICTV or genbank), using ngsngs\n",
    "2a. create signature files directly from these reads\n",
    "2b. Run reads through virome pipeline (assemly, Virsorter2)\n",
    "3. predict proteins on predicted viruses\n",
    "4. Create signatures\n",
    "5. do fastmultigather (on 2a, 2b, 3) -> gather -> taxonomy\n",
    "6. Genomad on 2b, compare to others\n",
    "\n",
    "\n",
    "### Sequencing depth?\n",
    "Roux et al, in silico benchmarking paper: Virome reads were simulated in silico with NeSSM (Jia et al., 2013) for each mock community (10,000,000 paired-end Illumina HiSeq reads, 2×100 bp).\n",
    "wetlands paper: and paired-end 150 bp sequencing was done using the NovaSeq S4 platform (Illumina) to an approximate depth of 10 Gbp per virome. This is approx 35M paired end reads. \n",
    "\n",
    "So will do 2 things:\n",
    "1x 150bp PE, 10M reads\n",
    "1x 150bp PE, 35M reads\n",
    "\n",
    "\n",
    "# Also want to test on a soil dataset (wetland data, from viromes):\n",
    "https://datadryad.org/stash/dataset/doi:10.25338/B8C934"
   ]
  },
  {
   "cell_type": "code",
   "execution_count": null,
   "metadata": {
    "vscode": {
     "languageId": "plaintext"
    }
   },
   "outputs": [],
   "source": [
    "# how to run a snakefile\n",
    "srun --account=ctbrowngrp -p med2 -J simread -t 5:00:00 -c 6 --mem=30gb --pty bash\n",
    "mamba activate branchwater\n",
    "snakemake --use-conda --resources mem_mb=30000 --rerun-triggers mtime -c 6 --rerun-incomplete -k -n\n"
   ]
  },
  {
   "cell_type": "code",
   "execution_count": null,
   "metadata": {
    "vscode": {
     "languageId": "plaintext"
    }
   },
   "outputs": [],
   "source": [
    "# I actually want to start with ICTV\n",
    "# in: /home/ntpierce/2023-spillover/output.vmr/vmr_MSL38_v1.dna.fa.gz\n",
    "# outputs in: /group/ctbrowngrp2/scratch/annie/2023-sourmash-viruses/ictv"
   ]
  },
  {
   "cell_type": "code",
   "execution_count": null,
   "metadata": {
    "vscode": {
     "languageId": "plaintext"
    }
   },
   "outputs": [],
   "source": [
    "# use bbmap to split the fasta file 17 ways, so that each read file contains ~1000 sequences\n",
    "partition.sh in=vmr_MSL38_v1.dna.fa out=split_vmr/vmr_%.fa ways=17\n",
    "\n",
    "# sim reads using bbmap illumni novaseq 6000, => 75% of reads have quality score of over 30\n",
    "randomreads.sh ref=../../resources/split_vmr/vmr_0.fa out1=vmr_0_R1.fq.gz out2=vmr_0_R2.fq.gz reads=10000000 simplenames=t minlength=150 \\\n",
    "maxlength=150 paired=t midq=30 \n"
   ]
  },
  {
   "cell_type": "code",
   "execution_count": null,
   "metadata": {
    "vscode": {
     "languageId": "plaintext"
    }
   },
   "outputs": [],
   "source": [
    "# ngsngs \n",
    "# Using illumni novaseq 6000, => 75% of reads have quality score of over 30. Means 1:1000 bases is wrong \n",
    "# ngsngs  on all viral genomes, simulate 10000 reads, of length 150, PE, quality score of 35.\n",
    "\n",
    "mamba activate ngsngs\n",
    "\n",
    "#ngsngs in a loop\n",
    "for ((i=1; i<=10; i++))\n",
    "do\n",
    "ngsngs -i vmr_MSL38_v1.dna.fa \\\n",
    "-r 10000000 \\\n",
    "-l 150 -seq PE -f fq.gz \\\n",
    "-o ./reads/vmrmsl38v1_sample_${i} -qs 35 -t 12\n",
    "done"
   ]
  },
  {
   "cell_type": "code",
   "execution_count": null,
   "metadata": {
    "vscode": {
     "languageId": "plaintext"
    }
   },
   "outputs": [],
   "source": [
    "# after virsorter2, have to individualize contigs to run prodigal\n",
    "awk '/^>/ {OUT=substr($0,2) \".fa\"}; OUT {print >OUT}' contigs.fa\n",
    "\n",
    "# can use the individ contigs for the snakefile, aka running prodigal, sourmash. \n",
    "# rename contigs first. see snake"
   ]
  },
  {
   "cell_type": "code",
   "execution_count": null,
   "metadata": {
    "vscode": {
     "languageId": "plaintext"
    }
   },
   "outputs": [],
   "source": [
    "# where are the ictv dbs:\n",
    "# protein (k4-15, sc1)\n",
    "/home/ntpierce/2023-spillover/output.vmr/vmr_MSL38_v1.protein.zip\n",
    "\n",
    "# nucleotide (k15, sc1)\n",
    " /home/ntpierce/2023-spillover/output.vmr/vmr_MSL38_v1.dnak.zip\n",
    " # nucleotide (k21, sc1)\n",
    "/home/ntpierce/2023-spillover/output.vmr/vmr_MSL38_v1.dna.zip\n",
    "\n",
    "# taxonomy\n",
    "/home/ntpierce/2023-spillover/output.vmr/vmr_MSL38_v1.taxonomy.csv"
   ]
  },
  {
   "cell_type": "code",
   "execution_count": null,
   "metadata": {
    "vscode": {
     "languageId": "plaintext"
    }
   },
   "outputs": [],
   "source": [
    "# make a list of files for each of the signature files\n",
    "readlink -f * > files.txt\n",
    "\n",
    "# fastmultigather\n",
    "srun --account=ctbrowngrp -p med2 -J mgmany -t 6:00:00 -c 30 --mem=30gb --pty bash\n",
    "mamba activate branchwater\n",
    "\n",
    "cd folder fmg\n",
    "\n",
    "sourmash scripts fastmultigather \\\n",
    "../read.k10.tr \\\n",
    "../vmr_MSL38_v1.protein.zip -m protein \\\n",
    "-c 30 -k 10 -t 300 -s 100\n",
    "\n",
    "sourmash scripts fastmultigather \\\n",
    "../read.dna.txt \\\n",
    "../vmr_MSL38_v1.dnak.zip \\\n",
    "-c 30 -k 15 -t 300 -s 100"
   ]
  },
  {
   "cell_type": "code",
   "execution_count": null,
   "metadata": {
    "vscode": {
     "languageId": "plaintext"
    }
   },
   "outputs": [],
   "source": [
    "# get headers, put in snake\n",
    "zcat file.fq.gz | grep '^@' > headers.txt\n",
    "\n",
    "# get list of readfiles\n",
    "readlink -f *.gz > ../all_simreads.txt"
   ]
  },
  {
   "cell_type": "code",
   "execution_count": null,
   "metadata": {
    "vscode": {
     "languageId": "plaintext"
    }
   },
   "outputs": [],
   "source": []
  },
  {
   "cell_type": "code",
   "execution_count": null,
   "metadata": {
    "vscode": {
     "languageId": "plaintext"
    }
   },
   "outputs": [],
   "source": [
    "# locations of the viral dbs for taxonomy:\n",
    "# genbank, k=21,31 scaled=1\n",
    "/home/ntpierce/2023-spillover/output.genbank-viral/genbank.2023-05.viral.dna.zip\n",
    "# genbank, taxonomy\n",
    "/home/ntpierce/database-releases/genbank-2023.05/viral.lineages.csv\n",
    "\n",
    "\n",
    "# ICTV, k=21,31 scaled=1\n",
    "/home/ntpierce/2023-spillover/output.vmr/vmr_MSL38_v1.dna.zip\n",
    "# ICTV, taxonomy\n",
    "/home/ntpierce/2023-spillover/output.vmr/vmr_MSL38_v1.taxonomy.csv"
   ]
  },
  {
   "cell_type": "markdown",
   "metadata": {},
   "source": [
    "# Genbank\n",
    "- For genbank there are a couple genomes that are present as fasta files but not in the tax file\n",
    "- Therefore split those off, only keep fa files that have tax\n",
    "- copy all genomes that are in the genbank database to local dir so we can make reads \n",
    "- Simulate reads, using either NeSSM or NGSNGS\n",
    "- Create sourmash sig files from reads\n"
   ]
  },
  {
   "cell_type": "code",
   "execution_count": null,
   "metadata": {},
   "outputs": [],
   "source": [
    "#  Copy the taxonomy file to current dir\n",
    "cp ../../genbank-2023.05.viral.ncbi-lineages.csv /group/ctbrowngrp2/scratch/annie/2023-sourmash-viruses/genbank/\n",
    "\n",
    "# then copy only genomes present in tax file to cur dir.\n",
    "for f in $(cat only_name.txt)\n",
    "do\n",
    "cp /home/ntpierce/2023-spillover/genbank/genomes/${f%}_genomic.fna.gz ./fasta/\n",
    "done\n",
    "\n",
    "cat *.fna > ../genbank_viral.fa"
   ]
  },
  {
   "cell_type": "code",
   "execution_count": null,
   "metadata": {},
   "outputs": [],
   "source": [
    "\n"
   ]
  },
  {
   "cell_type": "markdown",
   "metadata": {},
   "source": [
    "number of viral contigs per sample\n",
    "vmrmsl38v1_sample_1/final-viral-combined.fa:730\n",
    "vmrmsl38v1_sample_10/final-viral-combined.fa:725\n",
    "vmrmsl38v1_sample_2/final-viral-combined.fa:741\n",
    "vmrmsl38v1_sample_3/final-viral-combined.fa:751\n",
    "vmrmsl38v1_sample_4/final-viral-combined.fa:722\n",
    "vmrmsl38v1_sample_5/final-viral-combined.fa:736\n",
    "vmrmsl38v1_sample_6/final-viral-combined.fa:750\n",
    "vmrmsl38v1_sample_7/final-viral-combined.fa:733\n",
    "vmrmsl38v1_sample_8/final-viral-combined.fa:746\n",
    "vmrmsl38v1_sample_9/final-viral-combined.fa:742"
   ]
  }
 ],
 "metadata": {
  "kernelspec": {
   "display_name": "Python 3",
   "language": "python",
   "name": "python3"
  },
  "language_info": {
   "codemirror_mode": {
    "name": "ipython",
    "version": 3
   },
   "file_extension": ".py",
   "mimetype": "text/x-python",
   "name": "python",
   "nbconvert_exporter": "python",
   "pygments_lexer": "ipython3",
   "version": "3.10.13"
  }
 },
 "nbformat": 4,
 "nbformat_minor": 2
}
