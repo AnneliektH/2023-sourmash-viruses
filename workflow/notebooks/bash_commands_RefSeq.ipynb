{
 "cells": [
  {
   "cell_type": "markdown",
   "metadata": {},
   "source": [
    "### Use RefSeq viruses to perform taxonomic clustering. \n",
    "- Download Refseq viruses that infect Archeae and Bacteria\n",
    "- Translate proteins using a specific translator, prodigal-gv\n",
    "- One proteome for each viral contig (/home/ctbrown/scratch3/2024-annie-virus-protein-sketch)\n",
    "- Concatenate proteome with ICTV, then cluster. And whatever cluster with something from ICTV, gets annotated.\n",
    "AND/OR\n",
    "- fastmultigather for each item in pairwise against ictv. Then run tax annotate. Then cluster alone, w/o ICTV. For each cluster, what does sourmash tax annotate say? And they all corresponding within the cluster. If yes –> annotate, if all correspond at higher tax level, annotate at that.\n",
    "- Run Genomad too, to compare outputs\n",
    "\n",
    "Questions\n",
    "- Family level db?\n",
    "- Genus level?\n",
    "- scale: 2,5,10,100. protein. k=10,7,12.\n",
    "- Or iteratively, go dna then protein. everything that doesnt get scored gets thrown to protein"
   ]
  },
  {
   "cell_type": "markdown",
   "metadata": {
    "vscode": {
     "languageId": "plaintext"
    }
   },
   "source": [
    "#### Download NCBI genomes (n=4568 for bacteria, 102 archaea)\n",
    "- go to https://www.ncbi.nlm.nih.gov/genomes/GenomesGroup.cgi?taxid=10239\n",
    "- select host bacteria and host archaea.\n",
    "- Download nucleotide records\n",
    "- get taxonomy for all"
   ]
  },
  {
   "cell_type": "code",
   "execution_count": null,
   "metadata": {
    "vscode": {
     "languageId": "shellscript"
    }
   },
   "outputs": [],
   "source": [
    "# Clean the headers because spaces and we only need the accession number\n",
    "mamba activate bbmap\n",
    "reformat.sh in=240627_RefSeq_phagegenomes.fa out=240627_RefSeq_phagegenomes.rn.fa trd"
   ]
  },
  {
   "cell_type": "code",
   "execution_count": null,
   "metadata": {
    "vscode": {
     "languageId": "plaintext"
    }
   },
   "outputs": [],
   "source": [
    "# Use the INSDSeq xml files for taxonomy. \n",
    "see get_tax notebook"
   ]
  },
  {
   "cell_type": "code",
   "execution_count": null,
   "metadata": {
    "vscode": {
     "languageId": "shellscript"
    }
   },
   "outputs": [],
   "source": [
    "# split the multifasta into individual sequences\n",
    "mkdir contigs\n",
    "cd ./contigs\n",
    "awk '/^>/ {OUT=substr($0,2) \".fa\"}; OUT {print >OUT}' ../240627_RefSeq_phagegenomes.rn.fa "
   ]
  },
  {
   "cell_type": "code",
   "execution_count": null,
   "metadata": {
    "vscode": {
     "languageId": "shellscript"
    }
   },
   "outputs": [],
   "source": [
    "# Use prodigal-gv for annotation\n",
    "srun --account=ctbrowngrp -p bmm -J prodigal-gv -t 24:00:00 -c 1 --mem=50gb --pty bash\n",
    "\n",
    "mamba activate prodigal-gv\n",
    "prodigal-gv \n",
    "prodigal-gv -p meta -i 240627_RefSeq_phagegenomes.rn.fasta \\\n",
    "-a ../../results/240627_RefSeq.proteins.faa \n"
   ]
  },
  {
   "cell_type": "code",
   "execution_count": null,
   "metadata": {
    "vscode": {
     "languageId": "shellscript"
    }
   },
   "outputs": [],
   "source": [
    "# Run the custom_sketch.py for protein sketches of each genome.\n",
    "# remove spaces from predicted proteins\n",
    "cut -d ' ' -f1 240627_RefSeq.proteins.faa > 240627_RefSeq.proteins.ns.faa \n",
    "\n",
    "# run custom_sketch. Scale of 2, k=7,10,12\n",
    "python ../workflow/scripts/custom-sketch.py \\\n",
    "240627_RefSeq.proteins.ns.faa --ksize 12 --scaled 2 -o 240627_RefSeq.proteins.k10.sc2.zip\n",
    "\n",
    "# can I concatenate those?\n",
    "sourmash sig cat *sc2.zip -o 240627_RefSeq.proteins.zip"
   ]
  },
  {
   "cell_type": "markdown",
   "metadata": {},
   "source": [
    "#### Sourmash clustering\n",
    "Multiple ways possible:\n",
    "1. Fastmultigather against ICTV --> tax annotate the results. Pairwise within own viral sequences, cluster the output. Compare each clusters tax annotations from fmg\n",
    "2. pairwise comparison against ICTV. After this, do clustering with the output csv. Whatever get clustered with an ICTV virus gets annotated\n",
    "\n",
    "\n",
    "Need to do this at various k and scale sizes\n",
    "- k: 7,10,12\n",
    "- scale: 2,10,100\n",
    "\n"
   ]
  },
  {
   "cell_type": "code",
   "execution_count": null,
   "metadata": {
    "vscode": {
     "languageId": "shellscript"
    }
   },
   "outputs": [],
   "source": [
    "# run snakemake for fastmultigather\n",
    "srun --account=ctbrowngrp -p high2 -J fmg -t 1:00:00 -c 50 --mem=60gb --pty bash\n",
    "mamba activate branchwater\n",
    "\n",
    "snakemake --use-conda --resources mem_mb=60000 --rerun-triggers mtime \\\n",
    "-c 50 --rerun-incomplete -k -n"
   ]
  },
  {
   "cell_type": "code",
   "execution_count": null,
   "metadata": {
    "vscode": {
     "languageId": "shellscript"
    }
   },
   "outputs": [],
   "source": []
  },
  {
   "cell_type": "code",
   "execution_count": null,
   "metadata": {
    "vscode": {
     "languageId": "shellscript"
    }
   },
   "outputs": [],
   "source": [
    "# after fmg, use tax annotate\n",
    "# use --from-file with a list of paths to fmg output. \n",
    "\n",
    "\n",
    "# tax db /home/ntpierce/2023-spillover/output.vmr/vmr_MSL38_v1.taxonomy.csv\n",
    "sourmash tax metagenome -g {input.csv} -t {TAXDB} > {output.taxout}\n",
    "sourmash tax annotate \\\n",
    "-g ffea67de977c0a3f8a380cf0806af2f6.sig.gz.gather.csv -t "
   ]
  },
  {
   "cell_type": "code",
   "execution_count": null,
   "metadata": {
    "vscode": {
     "languageId": "shellscript"
    }
   },
   "outputs": [],
   "source": [
    "# then pairwise cluster (within own sequences), for each different ksize, scalevalue\n",
    "mamba activate branchwater\n",
    "sourmash scripts pairwise \\\n",
    "{sig_paths} -k 12 -s 2 -m protein -c {threads} \\\n",
    "-a --write-all -o {output}"
   ]
  },
  {
   "cell_type": "code",
   "execution_count": null,
   "metadata": {
    "vscode": {
     "languageId": "shellscript"
    }
   },
   "outputs": [],
   "source": [
    "# now with all output, try to get a consensus taxonomy. "
   ]
  },
  {
   "cell_type": "code",
   "execution_count": null,
   "metadata": {
    "vscode": {
     "languageId": "shellscript"
    }
   },
   "outputs": [],
   "source": [
    "# 2nd method to try:\n",
    "# Concatenate proteome with ICTV, then cluster. And whatever clusters with something from ICTV, gets annotated.\n",
    "# concat\n",
    "sourmash sig cat 240627_RefSeq.proteins.zip ../../resources/vmr_MSL38_v1.protein.zip -o RefSeq_vmr.zip\n",
    "\n",
    "# cluster takes the output of pairwise or multisearch (same thing)\n",
    "sourmash scripts pairwise \\\n",
    "240627_RefSeq.proteins.zip \\\n",
    "../resources/vmr_MSL38_v1.protein.zip -k 12 -s 100 \\\n",
    "-c 12 -o multisearch.RS.ICTV.k12.s100.csv -m protein\n",
    "\n",
    "\n",
    "sourmash scripts pairwise --write-all -a -c 12\n",
    "\n",
    "# cluster\n",
    "sourmash cluster\n",
    "\n",
    "# pairwise takes in multiple files, as long as they aren't zips. \n",
    "sourmash scripts multisearch f2.zip f1.zip -k 12 -s 100 -o test.csv -m protein -a"
   ]
  },
  {
   "cell_type": "code",
   "execution_count": null,
   "metadata": {
    "vscode": {
     "languageId": "shellscript"
    }
   },
   "outputs": [],
   "source": [
    "python ../workflow/scripts/annotate-clusters.py \\\n",
    "./cluster/refseq.k7.s2.ani0.95.csv \\\n",
    "-t tax/csv_concat/refseq.k7s2.csv \\\n",
    "-o ./tax_clust/ --ictv "
   ]
  },
  {
   "cell_type": "code",
   "execution_count": null,
   "metadata": {
    "vscode": {
     "languageId": "shellscript"
    }
   },
   "outputs": [],
   "source": [
    "python ../workflow/scripts/annotate-clusters.py \\\n",
    "./cluster/refseq.k7.s2.ani0.95.csv \\\n",
    "-t tax/refseq.k7.s2/fffa284ebe6dc9f64c4733d9fea6bc92.sig.gz.gather.with-lineages.csv \\\n",
    "-o ./tax_clust/ --ictv"
   ]
  }
 ],
 "metadata": {
  "language_info": {
   "name": "python"
  }
 },
 "nbformat": 4,
 "nbformat_minor": 2
}
