{
 "cells": [
  {
   "cell_type": "markdown",
   "metadata": {},
   "source": [
    "## How to run sourmash for viral genome taxonomy and recovery\n",
    "\n",
    "How to run sourmash for viral taxonomic classifications?\n",
    "What database works better, what k size, what scale? Does protein work?\n",
    "\n",
    "## Steps\n",
    "1. Simulate reads from the database file (either ICTV or genbank), using ngsngs\n",
    "2a. create signature files directly from these reads\n",
    "2b. Run reads through virome pipeline (assemly, Virsorter2)\n",
    "3. predict proteins on predicted viruses\n",
    "4. Create signatures\n",
    "5. do fastmultigather (on 2a, 2b, 3) -> gather -> taxonomy\n",
    "6. Genomad on 2b, compare to others\n",
    "\n",
    "\n",
    "### Sequencing depth?\n",
    "Roux et al, in silico benchmarking paper: Virome reads were simulated in silico with NeSSM (Jia et al., 2013) for each mock community (10,000,000 paired-end Illumina HiSeq reads, 2×100 bp).\n",
    "wetlands paper: and paired-end 150 bp sequencing was done using the NovaSeq S4 platform (Illumina) to an approximate depth of 10 Gbp per virome. This is approx 35M paired end reads. \n",
    "\n",
    "So will do 2 things:\n",
    "1x 150bp PE, 10M reads\n",
    "1x 150bp PE, 35M reads\n",
    "\n",
    "\n",
    "# Also want to test on a soil dataset (wetland data, from viromes):\n",
    "https://datadryad.org/stash/dataset/doi:10.25338/B8C934"
   ]
  },
  {
   "cell_type": "code",
   "execution_count": null,
   "metadata": {
    "vscode": {
     "languageId": "plaintext"
    }
   },
   "outputs": [],
   "source": [
    "# how to run a snakefile\n",
    "srun --account=ctbrowngrp -p med2 -J ngsngs -t 5:00:00 -c 12 --mem=30gb --\n",
    "pty bash\n",
    "mamba activate branchwater\n",
    "snakemake --use-conda --resources mem_mb=30000 --rerun-triggers mtime -c 12 --rerun-incomplete -k -n\n"
   ]
  },
  {
   "cell_type": "code",
   "execution_count": null,
   "metadata": {
    "vscode": {
     "languageId": "plaintext"
    }
   },
   "outputs": [],
   "source": [
    "# I actually want to start with ICTV\n",
    "# in: /home/ntpierce/2023-spillover/output.vmr/vmr_MSL38_v1.dna.fa.gz\n",
    "# outputs in: /group/ctbrowngrp2/scratch/annie/2023-sourmash-viruses/ictv"
   ]
  },
  {
   "cell_type": "code",
   "execution_count": null,
   "metadata": {
    "vscode": {
     "languageId": "plaintext"
    }
   },
   "outputs": [],
   "source": [
    "# ngsngs \n",
    "# Using illumni novaseq 6000, => 75% of reads have quality score of over 30. Means 1:1000 bases is wrong \n",
    "# ngsngs  on all viral genomes, simulate 10000 reads, of length 150, PE, quality score of 35.\n",
    "\n",
    "mamba activate ngsngs\n",
    "\n",
    "#ngsngs in a loop\n",
    "for ((i=1; i<=10; i++))\n",
    "do\n",
    "ngsngs -i vmr_MSL38_v1.dna.fa \\\n",
    "-r 10000000 \\\n",
    "-l 150 -seq PE -f fq.gz \\\n",
    "-o ./reads/vmrmsl38v1_sample_${i} -qs 35 -t 12\n",
    "done"
   ]
  },
  {
   "cell_type": "code",
   "execution_count": null,
   "metadata": {
    "vscode": {
     "languageId": "plaintext"
    }
   },
   "outputs": [],
   "source": [
    "# get headers \n",
    "\n",
    "zcat file.fq.gz | grep '^@' > headers.txt\n"
   ]
  },
  {
   "cell_type": "code",
   "execution_count": null,
   "metadata": {
    "vscode": {
     "languageId": "plaintext"
    }
   },
   "outputs": [],
   "source": [
    "# for votus\n",
    "module load parallel\n",
    "mamba activate branchwater\n",
    "\n",
    "\n",
    "## NO ZIPS for FMG\n",
    "for f in *.fa\n",
    "do\n",
    "echo sourmash sketch dna \\\n",
    "-p k=21,scaled=1000,k=31,scaled=1000 \\\n",
    "$f --name ${f%.fa*} \\\n",
    "-o ../sketch_vOTUs/${f%.fa*}.sig.gz && mv $f ./smashsig_complete/\n",
    "done | parallel -j 32"
   ]
  },
  {
   "cell_type": "code",
   "execution_count": null,
   "metadata": {
    "vscode": {
     "languageId": "plaintext"
    }
   },
   "outputs": [],
   "source": [
    "# get list of readfiles\n",
    "readlink -f *.gz > ../all_simreads.txt"
   ]
  },
  {
   "cell_type": "code",
   "execution_count": null,
   "metadata": {
    "vscode": {
     "languageId": "plaintext"
    }
   },
   "outputs": [],
   "source": [
    "# run fmg against reads\n",
    "srun --account=ctbrowngrp -p med2 -J ngsngs -t 5:00:00 -c 12 --mem=30gb --pty bash\n",
    "\n",
    "mamba activate branchwater\n",
    "\n",
    "# run the fastmultigather\n",
    "sourmash scripts fastmultigather \\\n",
    "../all_reads.txt \\\n",
    "../../sig_files/signatures_concat/allvOTUs.zip \\\n",
    "-c 36 -k 21 -t 2000 -s 1000"
   ]
  },
  {
   "cell_type": "code",
   "execution_count": null,
   "metadata": {
    "vscode": {
     "languageId": "plaintext"
    }
   },
   "outputs": [],
   "source": [
    "# run a fastmultigather on these using the fmg output as a picklist\n",
    "# try run with rocksdb db for immediate taxonomy\n",
    "srun --account=ctbrowngrp -p med2 -J mgmany -t 6:00:00 -c 30 --mem=30gb --pty bash\n",
    "mamba activate branchwater\n",
    "snakemake -s Snakefile_mg --resources mem_mb=30000 --rerun-triggers mtime -c 30 --rerun-incomplete -k "
   ]
  },
  {
   "cell_type": "code",
   "execution_count": null,
   "metadata": {
    "vscode": {
     "languageId": "plaintext"
    }
   },
   "outputs": [],
   "source": [
    "# locations of the viral dbs for taxonomy:\n",
    "# genbank, k=21,31 scaled=1\n",
    "/home/ntpierce/2023-spillover/output.genbank-viral/genbank.2023-05.viral.dna.zip\n",
    "# genbank, taxonomy\n",
    "/home/ntpierce/database-releases/genbank-2023.05/viral.lineages.csv\n",
    "\n",
    "\n",
    "# ICTV, k=21,31 scaled=1\n",
    "/home/ntpierce/2023-spillover/output.vmr/vmr_MSL38_v1.dna.zip\n",
    "# ICTV, taxonomy\n",
    "/home/ntpierce/2023-spillover/output.vmr/vmr_MSL38_v1.taxonomy.csv"
   ]
  },
  {
   "cell_type": "markdown",
   "metadata": {},
   "source": [
    "# Genbank\n",
    "- For genbank there are a couple genomes that are present as fasta files but not in the tax file\n",
    "- Therefore split those off, only keep fa files that have tax\n",
    "- copy all genomes that are in the genbank database to local dir so we can make reads \n",
    "- Simulate reads, using either NeSSM or NGSNGS\n",
    "- Create sourmash sig files from reads\n"
   ]
  },
  {
   "cell_type": "code",
   "execution_count": null,
   "metadata": {},
   "outputs": [],
   "source": [
    "#  Copy the taxonomy file to current dir\n",
    "cp ../../genbank-2023.05.viral.ncbi-lineages.csv /group/ctbrowngrp2/scratch/annie/2023-sourmash-viruses/genbank/\n",
    "\n",
    "# then copy only genomes present in tax file to cur dir.\n",
    "for f in $(cat only_name.txt)\n",
    "do\n",
    "cp /home/ntpierce/2023-spillover/genbank/genomes/${f%}_genomic.fna.gz ./fasta/\n",
    "done\n",
    "\n",
    "cat *.fna > ../genbank_viral.fa"
   ]
  }
 ],
 "metadata": {
  "kernelspec": {
   "display_name": "Python 3",
   "language": "python",
   "name": "python3"
  },
  "language_info": {
   "codemirror_mode": {
    "name": "ipython",
    "version": 3
   },
   "file_extension": ".py",
   "mimetype": "text/x-python",
   "name": "python",
   "nbconvert_exporter": "python",
   "pygments_lexer": "ipython3",
   "version": "3.10.13"
  }
 },
 "nbformat": 4,
 "nbformat_minor": 2
}
